{
 "cells": [
  {
   "cell_type": "code",
   "execution_count": 105,
   "id": "acbde684",
   "metadata": {},
   "outputs": [],
   "source": [
    "\n",
    "# Import the requests library.\n",
    "import requests\n",
    "\n",
    "# Import the API key.\n",
    "from config import weather_api_key\n",
    "# Import the dependencies.\n",
    "\n",
    "import pandas as pd\n",
    "import matplotlib.pyplot as plt\n",
    "import numpy as np"
   ]
  },
  {
   "cell_type": "code",
   "execution_count": 106,
   "id": "ee7380ea",
   "metadata": {},
   "outputs": [],
   "source": [
    "# Import the datetime module from the datetime library.\n",
    "from datetime import datetime"
   ]
  },
  {
   "cell_type": "code",
   "execution_count": 107,
   "id": "c8f24d23",
   "metadata": {},
   "outputs": [],
   "source": [
    "# Create a practice set of random latitude and longitude combinations.\n",
    "x = [25.12903645, 25.92017388, 26.62509167, -59.98969384, 37.30571269]\n",
    "y = [-67.59741259, 11.09532135, 74.84233102, -76.89176677, -61.13376282]\n",
    "coordinates = zip(x, y)"
   ]
  },
  {
   "cell_type": "code",
   "execution_count": 108,
   "id": "f132eabe",
   "metadata": {},
   "outputs": [
    {
     "data": {
      "text/plain": [
       "5"
      ]
     },
     "execution_count": 108,
     "metadata": {},
     "output_type": "execute_result"
    }
   ],
   "source": [
    "# Create a list for holding the cities.\n",
    "cities = []\n",
    "# Identify the nearest city for each latitude and longitude combination.\n",
    "for coordinate in coordinates:\n",
    "    city = citipy.nearest_city(coordinate[0], coordinate[1]).city_name\n",
    "\n",
    "    # If the city is unique, then we will add it to the cities list.\n",
    "    if city not in cities:\n",
    "        cities.append(city)\n",
    "# Print the city count to confirm sufficient count.\n",
    "len(cities)"
   ]
  },
  {
   "cell_type": "code",
   "execution_count": 109,
   "id": "f7c55e15",
   "metadata": {},
   "outputs": [
    {
     "name": "stdout",
     "output_type": "stream",
     "text": [
      "http://api.openweathermap.org/data/2.5/weather?units=Imperial&APPID=473cca902aff3a88f36cec7c4672a616\n"
     ]
    }
   ],
   "source": [
    "# Starting URL for Weather Map API Call.\n",
    "url = \"http://api.openweathermap.org/data/2.5/weather?units=Imperial&APPID=\" + weather_api_key\n",
    "print(url)"
   ]
  },
  {
   "cell_type": "code",
   "execution_count": 110,
   "id": "b6b872b6",
   "metadata": {},
   "outputs": [
    {
     "name": "stdout",
     "output_type": "stream",
     "text": [
      "City Weather found.\n"
     ]
    }
   ],
   "source": [
    "# Create an endpoint URL for a city.\n",
    "city_url = url + \"&q=\" + \"Boston\"\n",
    "city_weather = requests.get(city_url)\n",
    "if city_weather.status_code == 200:\n",
    "    print(f\"City Weather found.\")\n",
    "else:\n",
    "    print(f\"City weather not found.\")"
   ]
  },
  {
   "cell_type": "code",
   "execution_count": 111,
   "id": "7709ae62",
   "metadata": {},
   "outputs": [
    {
     "data": {
      "text/plain": [
       "'{\"coord\":{\"lon\":-71.0598,\"lat\":42.3584},\"weather\":[{\"id\":804,\"main\":\"Clouds\",\"description\":\"overcast clouds\",\"icon\":\"04d\"}],\"base\":\"stations\",\"main\":{\"temp\":58.69,\"feels_like\":58.53,\"temp_min\":56.34,\"temp_max\":60.76,\"pressure\":1020,\"humidity\":91},\"visibility\":10000,\"wind\":{\"speed\":3,\"deg\":160,\"gust\":11.99},\"clouds\":{\"all\":100},\"dt\":1633370580,\"sys\":{\"type\":2,\"id\":2013408,\"country\":\"US\",\"sunrise\":1633344282,\"sunset\":1633386049},\"timezone\":-14400,\"id\":4930956,\"name\":\"Boston\",\"cod\":200}'"
      ]
     },
     "execution_count": 111,
     "metadata": {},
     "output_type": "execute_result"
    }
   ],
   "source": [
    "# Get the text of the 'Get' request.\n",
    "city_weather.text"
   ]
  },
  {
   "cell_type": "code",
   "execution_count": 112,
   "id": "95d45b74",
   "metadata": {},
   "outputs": [],
   "source": [
    "# Get the JSON data.\n",
    "boston_data = city_weather.json()\n"
   ]
  },
  {
   "cell_type": "code",
   "execution_count": 113,
   "id": "0488230d",
   "metadata": {},
   "outputs": [
    {
     "name": "stdout",
     "output_type": "stream",
     "text": [
      "42.3584 -71.0598 60.76 91 100 3\n"
     ]
    }
   ],
   "source": [
    "\n",
    "lat = boston_data[\"coord\"][\"lat\"]\n",
    "lng = boston_data[\"coord\"][\"lon\"]\n",
    "max_temp = boston_data[\"main\"][\"temp_max\"]\n",
    "humidity = boston_data[\"main\"][\"humidity\"]\n",
    "clouds = boston_data[\"clouds\"][\"all\"]\n",
    "wind = boston_data[\"wind\"][\"speed\"]\n",
    "print(lat, lng, max_temp, humidity, clouds, wind)"
   ]
  },
  {
   "cell_type": "code",
   "execution_count": 114,
   "id": "5c378347",
   "metadata": {},
   "outputs": [
    {
     "data": {
      "text/plain": [
       "'2021-10-04 18:03:00'"
      ]
     },
     "execution_count": 114,
     "metadata": {},
     "output_type": "execute_result"
    }
   ],
   "source": [
    "\n",
    "# Get the date from the JSON file.\n",
    "date = boston_data[\"dt\"]\n",
    "# Convert the UTC date to a date format with year, month, day, hours, minutes, and seconds.\n",
    "datetime.utcfromtimestamp(date).strftime('%Y-%m-%d %H:%M:%S')"
   ]
  },
  {
   "cell_type": "code",
   "execution_count": 117,
   "id": "a0c87d62",
   "metadata": {},
   "outputs": [
    {
     "data": {
      "text/plain": [
       "<zip at 0x1ef0228b6c0>"
      ]
     },
     "execution_count": 117,
     "metadata": {},
     "output_type": "execute_result"
    }
   ],
   "source": [
    "# Create a set of random latitude and longitude combinations.\n",
    "lats = np.random.uniform(low=-90.000, high=90.000, size=1500)\n",
    "lngs = np.random.uniform(low=-180.000, high=180.000, size=1500)\n",
    "lat_lngs = zip(lats, lngs)\n",
    "lat_lngs"
   ]
  },
  {
   "cell_type": "code",
   "execution_count": 118,
   "id": "9f752031",
   "metadata": {},
   "outputs": [],
   "source": [
    "# Add the latitudes and longitudes to a list.\n",
    "coordinates = list(lat_lngs)"
   ]
  },
  {
   "cell_type": "code",
   "execution_count": 119,
   "id": "bad606ac",
   "metadata": {},
   "outputs": [
    {
     "data": {
      "text/plain": [
       "586"
      ]
     },
     "execution_count": 119,
     "metadata": {},
     "output_type": "execute_result"
    }
   ],
   "source": [
    "# Create a list for holding the cities.\n",
    "cities = []\n",
    "# Identify the nearest city for each latitude and longitude combination.\n",
    "for coordinate in coordinates:\n",
    "    city = citipy.nearest_city(coordinate[0], coordinate[1]).city_name\n",
    "\n",
    "    # If the city is unique, then we will add it to the cities list.\n",
    "    if city not in cities:\n",
    "        cities.append(city)\n",
    "# Print the city count to confirm sufficient count.\n",
    "len(cities)"
   ]
  },
  {
   "cell_type": "code",
   "execution_count": null,
   "id": "a9e6b5fb",
   "metadata": {},
   "outputs": [
    {
     "name": "stdout",
     "output_type": "stream",
     "text": [
      "Beginning Data Retrieval\n",
      "-----------------------------\n",
      "Processing Record 1 of Set 1 | pisco\n",
      "Processing Record 2 of Set 1 | busselton\n",
      "Processing Record 3 of Set 1 | caravelas\n",
      "Processing Record 4 of Set 1 | broken hill\n",
      "Processing Record 5 of Set 1 | rawson\n",
      "Processing Record 6 of Set 1 | kodiak\n",
      "Processing Record 7 of Set 1 | kavaratti\n",
      "Processing Record 8 of Set 1 | stephenville\n",
      "Processing Record 9 of Set 1 | lavrentiya\n",
      "Processing Record 10 of Set 1 | albany\n",
      "Processing Record 11 of Set 1 | kapaa\n",
      "Processing Record 12 of Set 1 | mendi\n",
      "Processing Record 13 of Set 1 | marsala\n",
      "Processing Record 14 of Set 1 | jalingo\n",
      "Processing Record 15 of Set 1 | arraial do cabo\n",
      "Processing Record 16 of Set 1 | pangnirtung\n",
      "Processing Record 17 of Set 1 | hermanus\n",
      "Processing Record 18 of Set 1 | dingle\n",
      "Processing Record 19 of Set 1 | korla\n",
      "Processing Record 20 of Set 1 | karratha\n",
      "Processing Record 21 of Set 1 | poum\n",
      "Processing Record 22 of Set 1 | rikitea\n",
      "Processing Record 23 of Set 1 | kedzierzyn-kozle\n",
      "Processing Record 24 of Set 1 | snezhnogorsk\n",
      "Processing Record 25 of Set 1 | taolanaro\n",
      "City not found. Skipping...\n",
      "Processing Record 26 of Set 1 | chengannur\n",
      "Processing Record 27 of Set 1 | hobart\n",
      "Processing Record 28 of Set 1 | barentsburg\n",
      "City not found. Skipping...\n",
      "Processing Record 29 of Set 1 | port alfred\n",
      "Processing Record 30 of Set 1 | dikson\n",
      "Processing Record 31 of Set 1 | bowen\n",
      "Processing Record 32 of Set 1 | ushuaia\n",
      "Processing Record 33 of Set 1 | ancud\n",
      "Processing Record 34 of Set 1 | hilo\n",
      "Processing Record 35 of Set 1 | tiksi\n",
      "Processing Record 36 of Set 1 | safwah\n",
      "City not found. Skipping...\n",
      "Processing Record 37 of Set 1 | santa luzia\n",
      "Processing Record 38 of Set 1 | brae\n",
      "Processing Record 39 of Set 1 | sibiti\n",
      "Processing Record 40 of Set 1 | ilanskiy\n",
      "Processing Record 41 of Set 1 | saint-philippe\n",
      "Processing Record 42 of Set 1 | aklavik\n",
      "Processing Record 43 of Set 1 | mahebourg\n",
      "Processing Record 44 of Set 1 | mataura\n",
      "Processing Record 45 of Set 1 | punta arenas\n",
      "Processing Record 46 of Set 1 | black river\n",
      "Processing Record 47 of Set 1 | bathsheba\n",
      "Processing Record 48 of Set 1 | cape town\n",
      "Processing Record 49 of Set 1 | chuy\n",
      "Processing Record 50 of Set 1 | tasiilaq\n",
      "Processing Record 1 of Set 2 | san andres\n",
      "Processing Record 2 of Set 2 | mount gambier\n",
      "Processing Record 3 of Set 2 | castro\n",
      "Processing Record 4 of Set 2 | nuuk\n",
      "Processing Record 5 of Set 2 | bandarbeyla\n",
      "Processing Record 6 of Set 2 | dehui\n",
      "Processing Record 7 of Set 2 | new norfolk\n",
      "Processing Record 8 of Set 2 | porto novo\n",
      "Processing Record 9 of Set 2 | semnan\n",
      "Processing Record 10 of Set 2 | nikolskoye\n",
      "Processing Record 11 of Set 2 | tecoanapa\n",
      "Processing Record 12 of Set 2 | esna\n",
      "Processing Record 13 of Set 2 | talnakh\n",
      "Processing Record 14 of Set 2 | otane\n",
      "Processing Record 15 of Set 2 | namibe\n",
      "Processing Record 16 of Set 2 | port elizabeth\n",
      "Processing Record 17 of Set 2 | shimoda\n"
     ]
    }
   ],
   "source": [
    "\n",
    "#Empty city_data list\n",
    "city_data = []\n",
    "print(\"Beginning Data Retrieval\")\n",
    "print(\"-----------------------------\")\n",
    "\n",
    "#create counters\n",
    "record_count = 1\n",
    "set_count = 1\n",
    "\n",
    "# Loop through all the cities in our list.\n",
    "for i, city in enumerate(cities):\n",
    "\n",
    "    # Group cities in sets of 50 for logging purposes.\n",
    "    if (i % 50 == 0 and i >= 50):\n",
    "        set_count += 1\n",
    "        record_count = 1\n",
    "    # Create endpoint URL with each city.\n",
    "    city_url = url + \"&q=\" + city.replace(\" \",\"+\")\n",
    "\n",
    "    # Log the URL, record, and set numbers and the city.\n",
    "    print(f\"Processing Record {record_count} of Set {set_count} | {city}\")\n",
    "    # Add 1 to the record count.\n",
    "    record_count += 1\n",
    "    \n",
    "    # Run an API request for each of the cities.\n",
    "    try:\n",
    "        # Parse the JSON and retrieve data.\n",
    "        city_weather = requests.get(city_url).json()\n",
    "        # Parse out the needed data.\n",
    "        city_lat = city_weather[\"coord\"][\"lat\"]\n",
    "        city_lng = city_weather[\"coord\"][\"lon\"]\n",
    "        city_max_temp = city_weather[\"main\"][\"temp_max\"]\n",
    "        city_humidity = city_weather[\"main\"][\"humidity\"]\n",
    "        city_clouds = city_weather[\"clouds\"][\"all\"]\n",
    "        city_wind = city_weather[\"wind\"][\"speed\"]\n",
    "        city_country = city_weather[\"sys\"][\"country\"]\n",
    "        # Convert the date to ISO standard.\n",
    "        city_date = datetime.utcfromtimestamp(city_weather[\"dt\"]).strftime('%Y-%m-%d %H:%M:%S')\n",
    "        # Append the city information into city_data list.\n",
    "        city_data.append({\"City\": city.title(),\n",
    "                          \"Lat\": city_lat,\n",
    "                          \"Lng\": city_lng,\n",
    "                          \"Max Temp\": city_max_temp,\n",
    "                          \"Humidity\": city_humidity,\n",
    "                          \"Cloudiness\": city_clouds,\n",
    "                          \"Wind Speed\": city_wind,\n",
    "                          \"Country\": city_country,\n",
    "                          \"Date\": city_date})\n",
    "\n",
    "# If an error is experienced, skip the city.\n",
    "    except:\n",
    "        print(\"City not found. Skipping...\")\n",
    "        pass\n",
    "\n",
    "# Indicate that Data Loading is complete.\n",
    "print(\"-----------------------------\")\n",
    "print(\"Data Retrieval Complete      \")"
   ]
  },
  {
   "cell_type": "code",
   "execution_count": null,
   "id": "a9ce6e68",
   "metadata": {},
   "outputs": [],
   "source": []
  }
 ],
 "metadata": {
  "kernelspec": {
   "display_name": "Python 3 (ipykernel)",
   "language": "python",
   "name": "python3"
  },
  "language_info": {
   "codemirror_mode": {
    "name": "ipython",
    "version": 3
   },
   "file_extension": ".py",
   "mimetype": "text/x-python",
   "name": "python",
   "nbconvert_exporter": "python",
   "pygments_lexer": "ipython3",
   "version": "3.8.8"
  }
 },
 "nbformat": 4,
 "nbformat_minor": 5
}
