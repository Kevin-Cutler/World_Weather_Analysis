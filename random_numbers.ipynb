{
 "cells": [
  {
   "cell_type": "code",
   "execution_count": 1,
   "id": "3795be55",
   "metadata": {},
   "outputs": [],
   "source": [
    "# Import the random module.\n",
    "import random"
   ]
  },
  {
   "cell_type": "code",
   "execution_count": 4,
   "id": "6945b4e6",
   "metadata": {},
   "outputs": [
    {
     "data": {
      "text/plain": [
       "-66"
      ]
     },
     "execution_count": 4,
     "metadata": {},
     "output_type": "execute_result"
    }
   ],
   "source": [
    "random.randint(-90, 90)"
   ]
  },
  {
   "cell_type": "code",
   "execution_count": 5,
   "id": "8f8b71b8",
   "metadata": {},
   "outputs": [
    {
     "data": {
      "text/plain": [
       "0.4258961277675699"
      ]
     },
     "execution_count": 5,
     "metadata": {},
     "output_type": "execute_result"
    }
   ],
   "source": [
    "random.random()"
   ]
  },
  {
   "cell_type": "code",
   "execution_count": 6,
   "id": "0a60a8c3",
   "metadata": {},
   "outputs": [
    {
     "data": {
      "text/plain": [
       "11.55046809708982"
      ]
     },
     "execution_count": 6,
     "metadata": {},
     "output_type": "execute_result"
    }
   ],
   "source": [
    "random_number = random.randint(-90, 89) + random.random()\n",
    "random_number"
   ]
  },
  {
   "cell_type": "code",
   "execution_count": 7,
   "id": "7e324be4",
   "metadata": {},
   "outputs": [],
   "source": [
    "x = 1\n",
    "latitudes = []\n",
    "while x < 11:\n",
    "    random_lat = random.randint(-90, 89) + random.random()\n",
    "    latitudes.append(random_lat)\n",
    "    x += 1"
   ]
  },
  {
   "cell_type": "code",
   "execution_count": 8,
   "id": "039f3d83",
   "metadata": {},
   "outputs": [
    {
     "data": {
      "text/plain": [
       "[7.000259045205051,\n",
       " -50.046669076584315,\n",
       " -3.766277270792667,\n",
       " -63.125014728846935,\n",
       " 28.69308998734712,\n",
       " -7.28940793216819,\n",
       " 81.67684379720049,\n",
       " -83.49573869302945,\n",
       " -77.03623493575607,\n",
       " 63.10625851867209]"
      ]
     },
     "execution_count": 8,
     "metadata": {},
     "output_type": "execute_result"
    }
   ],
   "source": [
    "latitudes"
   ]
  },
  {
   "cell_type": "code",
   "execution_count": 9,
   "id": "1c454a74",
   "metadata": {},
   "outputs": [],
   "source": [
    "# Import the NumPy module.\n",
    "import numpy as np"
   ]
  },
  {
   "cell_type": "code",
   "execution_count": 10,
   "id": "ba34bf3c",
   "metadata": {},
   "outputs": [
    {
     "data": {
      "text/plain": [
       "-48.16000671818477"
      ]
     },
     "execution_count": 10,
     "metadata": {},
     "output_type": "execute_result"
    }
   ],
   "source": [
    "np.random.uniform(-90.00,90.00)"
   ]
  },
  {
   "cell_type": "code",
   "execution_count": 11,
   "id": "32faac17",
   "metadata": {},
   "outputs": [
    {
     "data": {
      "text/plain": [
       "array([ 39.05258253, -49.97568705, -19.8728629 , -39.19564296,\n",
       "        13.42174727,  86.40337641, -47.54746063, -21.92546053,\n",
       "       -64.61441694,  21.45369457,  14.93980223,  46.77418799,\n",
       "       -50.57678651, -85.46301892, -79.58067297, -52.63308818,\n",
       "        81.31438498, -46.04505764, -31.05128935,  33.98548025,\n",
       "       -32.29959863, -58.45347563, -58.86156098,  52.13807468,\n",
       "       -37.77902567,  75.14973171,  46.25901603,  31.60746058,\n",
       "        -6.77353303,  14.14662892, -22.54758303,  21.03713509,\n",
       "       -22.94726829,   9.08870278,  44.08838262, -44.90352246,\n",
       "        72.77013922, -31.5619335 , -71.59348181,  25.78671901,\n",
       "       -52.89527773, -73.30330561, -17.11043886,  67.39515279,\n",
       "        47.63380494, -24.05786528, -37.02280193, -73.84234149,\n",
       "       -59.011929  , -87.20033618])"
      ]
     },
     "execution_count": 11,
     "metadata": {},
     "output_type": "execute_result"
    }
   ],
   "source": [
    "np.random.uniform(-90.00,90.00, size=50)"
   ]
  },
  {
   "cell_type": "code",
   "execution_count": 12,
   "id": "3ac04c8c",
   "metadata": {},
   "outputs": [],
   "source": [
    "# Import timeit.\n",
    "import timeit"
   ]
  },
  {
   "cell_type": "code",
   "execution_count": 13,
   "id": "631a50c6",
   "metadata": {},
   "outputs": [
    {
     "name": "stdout",
     "output_type": "stream",
     "text": [
      "18.1 µs ± 257 ns per loop (mean ± std. dev. of 7 runs, 100000 loops each)\n"
     ]
    }
   ],
   "source": [
    "%timeit np.random.uniform(-90.000, 90.000, size=1500)"
   ]
  },
  {
   "cell_type": "code",
   "execution_count": 15,
   "id": "a9d21ded",
   "metadata": {},
   "outputs": [
    {
     "name": "stdout",
     "output_type": "stream",
     "text": [
      "112 ns ± 1.66 ns per loop (mean ± std. dev. of 7 runs, 10000000 loops each)\n"
     ]
    }
   ],
   "source": [
    "def latitudes(size):\n",
    "    latitudes = []\n",
    "    x = 1500\n",
    "    while x < (size):\n",
    "        random_lat = random.randint(-90, 90) + random.random()\n",
    "        latitudes.append(random_lat)\n",
    "        x += 1\n",
    "    return latitudes\n",
    "# Call the function with 1500.\n",
    "%timeit latitudes(1500)"
   ]
  },
  {
   "cell_type": "code",
   "execution_count": null,
   "id": "b78e29af",
   "metadata": {},
   "outputs": [],
   "source": []
  }
 ],
 "metadata": {
  "kernelspec": {
   "display_name": "PythonData",
   "language": "python",
   "name": "pythondata"
  },
  "language_info": {
   "codemirror_mode": {
    "name": "ipython",
    "version": 3
   },
   "file_extension": ".py",
   "mimetype": "text/x-python",
   "name": "python",
   "nbconvert_exporter": "python",
   "pygments_lexer": "ipython3",
   "version": "3.7.10"
  }
 },
 "nbformat": 4,
 "nbformat_minor": 5
}
